{
 "cells": [
  {
   "cell_type": "code",
   "execution_count": 3,
   "id": "b61b5905",
   "metadata": {},
   "outputs": [
    {
     "name": "stdout",
     "output_type": "stream",
     "text": [
      "Collecting mysql-connector-python\n",
      "  Downloading mysql_connector_python-8.3.0-cp39-cp39-win_amd64.whl (15.4 MB)\n",
      "     --------------------------------------- 15.4/15.4 MB 18.2 MB/s eta 0:00:00\n",
      "Installing collected packages: mysql-connector-python\n",
      "Successfully installed mysql-connector-python-8.3.0\n",
      "Note: you may need to restart the kernel to use updated packages.\n"
     ]
    }
   ],
   "source": [
    "pip install mysql-connector-python"
   ]
  },
  {
   "cell_type": "code",
   "execution_count": 21,
   "id": "8135a758",
   "metadata": {},
   "outputs": [
    {
     "name": "stdout",
     "output_type": "stream",
     "text": [
      "Conexão bem sucedida ao banco de dados MySQL\n"
     ]
    },
    {
     "name": "stderr",
     "output_type": "stream",
     "text": [
      "C:\\Users\\isabe\\anaconda3\\lib\\site-packages\\pandas\\io\\sql.py:762: UserWarning: pandas only support SQLAlchemy connectable(engine/connection) ordatabase string URI or sqlite3 DBAPI2 connectionother DBAPI2 objects are not tested, please consider using SQLAlchemy\n",
      "  warnings.warn(\n"
     ]
    },
    {
     "name": "stdout",
     "output_type": "stream",
     "text": [
      "Dados obtidos com sucesso.\n",
      "Conexão com o banco de dados fechada.\n",
      "Dados exportados para dados_do_banco2.csv com sucesso.\n"
     ]
    },
    {
     "data": {
      "text/html": [
       "<a href='dados_do_banco2.csv' target='_blank'>dados_do_banco2.csv</a><br>"
      ],
      "text/plain": [
       "C:\\Users\\isabe\\OneDrive\\Documentos\\PythonScripts\\dados_do_banco2.csv"
      ]
     },
     "metadata": {},
     "output_type": "display_data"
    }
   ],
   "source": [
    "import pandas as pd\n",
    "import mysql.connector\n",
    "from IPython.display import FileLink\n",
    "\n",
    "# Defina suas credenciais de conexão ao banco de dados MySQL\n",
    "host = 'localhost'\n",
    "database = 'covid19'\n",
    "user = 'isabela'\n",
    "password = '162125'\n",
    "\n",
    "# Estabeleça a conexão com o banco de dados MySQL\n",
    "try:\n",
    "    connection = mysql.connector.connect(host=host,\n",
    "                                         database=database,\n",
    "                                         user=user,\n",
    "                                         password=password)\n",
    "    if connection.is_connected():\n",
    "        print('Conexão bem sucedida ao banco de dados MySQL')\n",
    "    else:\n",
    "        print('Falha na conexão ao banco de dados MySQL')\n",
    "except mysql.connector.Error as e:\n",
    "    print(e)\n",
    "    \n",
    "# Defina as datas inicial e final para filtragem\n",
    "data_inicial = '2022-01-01 00:00:00'\n",
    "data_final = '2022-01-01 00:00:00'\n",
    "\n",
    "\n",
    "# Consulta SQL para obter os dados da tabela\n",
    "query = f\"SELECT * FROM atualizacao_covid19 WHERE `Data de atualizacao` BETWEEN '{data_inicial}' AND '{data_final}'\"\n",
    "# Execute a consulta e armazene os resultados em um DataFrame pandas\n",
    "try:\n",
    "    df = pd.read_sql(query, con=connection)\n",
    "    print('Dados obtidos com sucesso.')\n",
    "except pd.errors.EmptyDataError:\n",
    "    print(\"Nenhum dado retornado pela consulta.\")\n",
    "except mysql.connector.Error as e:\n",
    "    print(e)\n",
    "\n",
    "# Feche a conexão com o banco de dados\n",
    "connection.close()\n",
    "print('Conexão com o banco de dados fechada.')\n",
    "\n",
    "# Salve o DataFrame em um arquivo CSV\n",
    "csv_file = 'dados_do_banco2.csv'\n",
    "try:\n",
    "    df.to_csv(csv_file, index=False)\n",
    "    print(f'Dados exportados para {csv_file} com sucesso.')\n",
    "\n",
    "    # Crie um link para o arquivo CSV para download\n",
    "    display(FileLink(csv_file))\n",
    "except Exception as e:\n",
    "    print(e)\n"
   ]
  },
  {
   "cell_type": "code",
   "execution_count": null,
   "id": "7bbc8c33",
   "metadata": {},
   "outputs": [],
   "source": []
  }
 ],
 "metadata": {
  "kernelspec": {
   "display_name": "Python 3 (ipykernel)",
   "language": "python",
   "name": "python3"
  },
  "language_info": {
   "codemirror_mode": {
    "name": "ipython",
    "version": 3
   },
   "file_extension": ".py",
   "mimetype": "text/x-python",
   "name": "python",
   "nbconvert_exporter": "python",
   "pygments_lexer": "ipython3",
   "version": "3.9.13"
  }
 },
 "nbformat": 4,
 "nbformat_minor": 5
}
